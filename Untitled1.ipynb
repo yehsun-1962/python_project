{
  "nbformat": 4,
  "nbformat_minor": 0,
  "metadata": {
    "colab": {
      "name": "Untitled1.ipynb",
      "provenance": [],
      "authorship_tag": "ABX9TyO1cbgUxfAPVbcGuJXUpsEg",
      "include_colab_link": true
    },
    "kernelspec": {
      "name": "python3",
      "display_name": "Python 3"
    }
  },
  "cells": [
    {
      "cell_type": "markdown",
      "metadata": {
        "id": "view-in-github",
        "colab_type": "text"
      },
      "source": [
        "<a href=\"https://colab.research.google.com/github/yehsun-1962/python_project/blob/main/Untitled1.ipynb\" target=\"_parent\"><img src=\"https://colab.research.google.com/assets/colab-badge.svg\" alt=\"Open In Colab\"/></a>"
      ]
    },
    {
      "cell_type": "markdown",
      "metadata": {
        "id": "_xj8t6w39OEb"
      },
      "source": [
        "# **Simple To Do List**\r\n"
      ]
    },
    {
      "cell_type": "code",
      "metadata": {
        "id": "5zovVta55HLf"
      },
      "source": [
        "course_name = []\r\n",
        "course_code = []"
      ],
      "execution_count": 13,
      "outputs": []
    },
    {
      "cell_type": "code",
      "metadata": {
        "colab": {
          "base_uri": "https://localhost:8080/"
        },
        "id": "l1iXu4n15YSy",
        "outputId": "7f48df8a-fc3a-424e-9ef9-545d441619ba"
      },
      "source": [
        "def navBar():\r\n",
        "  print(\"     This your dashboard for keep tracking of your semister course\")\r\n",
        "  print(\"|----------------------------------------------------------------------|\")\r\n",
        "  print(\"|-------------------------- Menu --------------------------------------|\")\r\n",
        "  print(\"|----------------------------------------------------------------------|\")\r\n",
        "  print(\"       Type 1 and press Enter for show your registerd course\")\r\n",
        "  print(\"              Type 2 and press Enter for Add course\")\r\n",
        "  print('             Type 3 and press Enter for remove course')\r\n",
        "\r\n",
        "navBar()\r\n",
        "show_your_registerd_course()"
      ],
      "execution_count": 14,
      "outputs": [
        {
          "output_type": "stream",
          "text": [
            "     This your dashboard for keep tracking of your semister course\n",
            "|----------------------------------------------------------------------|\n",
            "|-------------------------- Menu --------------------------------------|\n",
            "|----------------------------------------------------------------------|\n",
            "       Type 1 and press Enter for show your registerd course\n",
            "              Type 2 and press Enter for Add course\n",
            "             Type 3 and press Enter for remove course\n",
            "\n",
            "No course in your list\n"
          ],
          "name": "stdout"
        }
      ]
    },
    {
      "cell_type": "code",
      "metadata": {
        "id": "CvgOdMuo6uSc"
      },
      "source": [
        "def show_your_registerd_course():\r\n",
        "  print()\r\n",
        "  if len(course_code) == 0:\r\n",
        "    print(\"No course in your list\")\r\n",
        "  else:\r\n",
        "    print(\"\\nID ---  Course Name --- Course Code\")\r\n",
        "    for id, course in enumerate(course_name):\r\n",
        "      print(f\"{id+1} --- {course} --- {course_code[id]}\")"
      ],
      "execution_count": 15,
      "outputs": []
    },
    {
      "cell_type": "code",
      "metadata": {
        "id": "OAplO26A61yD"
      },
      "source": [
        "def add_course(code, name):\r\n",
        "  course_code.append(code)\r\n",
        "  course_name.append(name)\r\n",
        "  show_your_registerd_course()"
      ],
      "execution_count": 16,
      "outputs": []
    },
    {
      "cell_type": "code",
      "metadata": {
        "id": "aAgh5UWn7Cv-"
      },
      "source": [
        "def remove_course(index):\r\n",
        "  course_code.pop(index)\r\n",
        "  course_name.pop(index)\r\n",
        "  show_your_registerd_course()"
      ],
      "execution_count": 17,
      "outputs": []
    },
    {
      "cell_type": "code",
      "metadata": {
        "colab": {
          "base_uri": "https://localhost:8080/"
        },
        "id": "c4BO15h47HZp",
        "outputId": "46c30016-9933-4ce6-eae1-9a3203aeefe7"
      },
      "source": [
        "def main_page():\r\n",
        "  choice = int(input(\"Enter your choice: \"))\r\n",
        "  if choice == 1:\r\n",
        "    show_your_registerd_course()\r\n",
        "  elif choice == 2:\r\n",
        "    name = input(\"Enter course name: \")\r\n",
        "    code = input(\"Enter course code: \")\r\n",
        "    add_course(code, name)\r\n",
        "  elif choice == 3:\r\n",
        "    index = int(input(\"Enter course id: \"))\r\n",
        "    remove_course(index-1)\r\n",
        "  else:\r\n",
        "    print(\"Please insert a valid Input.\")\r\n",
        "    main_page()\r\n",
        "main_page()"
      ],
      "execution_count": 21,
      "outputs": [
        {
          "output_type": "stream",
          "text": [
            "Enter your choice: 2\n",
            "Enter course name: AI Lab\n",
            "Enter course code: CSE-413\n",
            "\n",
            "\n",
            "ID ---  Course Name --- Course Code\n",
            "1 --- AI Lab --- CSE-413\n"
          ],
          "name": "stdout"
        }
      ]
    }
  ]
}